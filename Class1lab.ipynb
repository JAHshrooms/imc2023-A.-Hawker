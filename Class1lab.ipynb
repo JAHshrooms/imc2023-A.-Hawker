{
  "nbformat": 4,
  "nbformat_minor": 0,
  "metadata": {
    "colab": {
      "provenance": [],
      "authorship_tag": "ABX9TyMsaLJmLS96zCpM939Gmgoz",
      "include_colab_link": true
    },
    "kernelspec": {
      "name": "python3",
      "display_name": "Python 3"
    },
    "language_info": {
      "name": "python"
    }
  },
  "cells": [
    {
      "cell_type": "markdown",
      "metadata": {
        "id": "view-in-github",
        "colab_type": "text"
      },
      "source": [
        "<a href=\"https://colab.research.google.com/github/JAHshrooms/imc2023-A.-Hawker/blob/main/Class1lab.ipynb\" target=\"_parent\"><img src=\"https://colab.research.google.com/assets/colab-badge.svg\" alt=\"Open In Colab\"/></a>"
      ]
    },
    {
      "cell_type": "code",
      "source": [
        "fundamental=55"
      ],
      "metadata": {
        "id": "c_QmW40RIedZ"
      },
      "execution_count": 1,
      "outputs": []
    },
    {
      "cell_type": "code",
      "source": [
        "print(fundamental)"
      ],
      "metadata": {
        "colab": {
          "base_uri": "https://localhost:8080/"
        },
        "id": "fqQKzm7COhWm",
        "outputId": "fdd566f9-46ff-4b34-88fb-49ba3ce2eb3f"
      },
      "execution_count": 2,
      "outputs": [
        {
          "output_type": "stream",
          "name": "stdout",
          "text": [
            "55\n"
          ]
        }
      ]
    },
    {
      "cell_type": "code",
      "source": [
        "firstpartial=55*2"
      ],
      "metadata": {
        "id": "V98WWDmROq_c"
      },
      "execution_count": 3,
      "outputs": []
    },
    {
      "cell_type": "code",
      "source": [
        "print(firstpartial)"
      ],
      "metadata": {
        "colab": {
          "base_uri": "https://localhost:8080/"
        },
        "id": "r7kZbLb3O7dd",
        "outputId": "c50ed3e8-8fe1-4e15-bca6-d9028d8a3410"
      },
      "execution_count": 4,
      "outputs": [
        {
          "output_type": "stream",
          "name": "stdout",
          "text": [
            "110\n"
          ]
        }
      ]
    },
    {
      "cell_type": "code",
      "source": [
        "secondpartial=55*3"
      ],
      "metadata": {
        "id": "HJkkaQdCO-01"
      },
      "execution_count": 6,
      "outputs": []
    },
    {
      "cell_type": "code",
      "source": [
        "print(secondpartial)"
      ],
      "metadata": {
        "colab": {
          "base_uri": "https://localhost:8080/"
        },
        "id": "Z2cotK4yP5rF",
        "outputId": "0665fccb-7299-426d-ca1e-d8e773a003d7"
      },
      "execution_count": 7,
      "outputs": [
        {
          "output_type": "stream",
          "name": "stdout",
          "text": [
            "165\n"
          ]
        }
      ]
    },
    {
      "cell_type": "code",
      "source": [
        "thirdpartial=55*4"
      ],
      "metadata": {
        "id": "wm8cCHcvP_Si"
      },
      "execution_count": 8,
      "outputs": []
    },
    {
      "cell_type": "code",
      "source": [
        "print(thirdpartial)"
      ],
      "metadata": {
        "colab": {
          "base_uri": "https://localhost:8080/"
        },
        "id": "nr3PPv34QEBR",
        "outputId": "364d06fc-912c-45f2-f11f-cf02f2996fe1"
      },
      "execution_count": 9,
      "outputs": [
        {
          "output_type": "stream",
          "name": "stdout",
          "text": [
            "220\n"
          ]
        }
      ]
    },
    {
      "cell_type": "code",
      "source": [
        "fourthpartial=55*5"
      ],
      "metadata": {
        "id": "h4W1-xzBQIMs"
      },
      "execution_count": 10,
      "outputs": []
    },
    {
      "cell_type": "code",
      "source": [
        "print(fourthpartial)"
      ],
      "metadata": {
        "colab": {
          "base_uri": "https://localhost:8080/"
        },
        "id": "RT1OjDRoQMWd",
        "outputId": "2f91372c-496a-4745-f54f-0c73a7f6dfa7"
      },
      "execution_count": 11,
      "outputs": [
        {
          "output_type": "stream",
          "name": "stdout",
          "text": [
            "275\n"
          ]
        }
      ]
    },
    {
      "cell_type": "code",
      "source": [
        "fifthpartial=55*6"
      ],
      "metadata": {
        "id": "ZEyVGdXuQObl"
      },
      "execution_count": 12,
      "outputs": []
    },
    {
      "cell_type": "code",
      "source": [
        "print(fifthpartial)"
      ],
      "metadata": {
        "colab": {
          "base_uri": "https://localhost:8080/"
        },
        "id": "SX9oiL0mQTx1",
        "outputId": "dcbc3afa-eb23-477d-9d71-1f48468515d0"
      },
      "execution_count": 14,
      "outputs": [
        {
          "output_type": "stream",
          "name": "stdout",
          "text": [
            "330\n"
          ]
        }
      ]
    },
    {
      "cell_type": "code",
      "source": [
        "sixthpartial=55*7"
      ],
      "metadata": {
        "id": "d1rtjGpuQWPt"
      },
      "execution_count": 15,
      "outputs": []
    },
    {
      "cell_type": "code",
      "source": [
        "print(sixthpartial)"
      ],
      "metadata": {
        "colab": {
          "base_uri": "https://localhost:8080/"
        },
        "id": "4h9E-7cOQezu",
        "outputId": "8f6c4e0c-db80-4fb8-cfa3-75077dcae394"
      },
      "execution_count": 16,
      "outputs": [
        {
          "output_type": "stream",
          "name": "stdout",
          "text": [
            "385\n"
          ]
        }
      ]
    },
    {
      "cell_type": "code",
      "source": [
        "import math"
      ],
      "metadata": {
        "id": "TqUbRP5oQiHe"
      },
      "execution_count": 17,
      "outputs": []
    },
    {
      "cell_type": "code",
      "source": [
        "cents=math.log(3/2)*1200/math.log(2)"
      ],
      "metadata": {
        "id": "0lz7-CJGSRk3"
      },
      "execution_count": 18,
      "outputs": []
    },
    {
      "cell_type": "code",
      "source": [
        "print(cents)"
      ],
      "metadata": {
        "colab": {
          "base_uri": "https://localhost:8080/"
        },
        "id": "JunhVIaDS2PP",
        "outputId": "b8299777-f04e-4daf-827f-cad2832ba2e5"
      },
      "execution_count": 19,
      "outputs": [
        {
          "output_type": "stream",
          "name": "stdout",
          "text": [
            "701.9550008653874\n"
          ]
        }
      ]
    },
    {
      "cell_type": "code",
      "source": [
        "cents=math.log(165/55)*1200/math.log(2)"
      ],
      "metadata": {
        "id": "vIa8Ge-oTLof"
      },
      "execution_count": 24,
      "outputs": []
    },
    {
      "cell_type": "code",
      "source": [
        "print(cents)"
      ],
      "metadata": {
        "colab": {
          "base_uri": "https://localhost:8080/"
        },
        "id": "yw_VjLnWT5Dt",
        "outputId": "563a9bba-aa7e-41ee-a8d8-e8e4617e2b2a"
      },
      "execution_count": 25,
      "outputs": [
        {
          "output_type": "stream",
          "name": "stdout",
          "text": [
            "1901.9550008653878\n"
          ]
        }
      ]
    },
    {
      "cell_type": "code",
      "source": [
        "cents=math.log(220/55)*1200/math.log(2)"
      ],
      "metadata": {
        "id": "zWYjiBdJUPLt"
      },
      "execution_count": 26,
      "outputs": []
    },
    {
      "cell_type": "code",
      "source": [
        "print(cents)"
      ],
      "metadata": {
        "colab": {
          "base_uri": "https://localhost:8080/"
        },
        "id": "6ARbllvHUgdc",
        "outputId": "83739e1a-1047-40a5-878a-92b9b4374c60"
      },
      "execution_count": 27,
      "outputs": [
        {
          "output_type": "stream",
          "name": "stdout",
          "text": [
            "2400.0\n"
          ]
        }
      ]
    },
    {
      "cell_type": "code",
      "source": [
        "cents=math.log(275/55)*1200/math.log(2)"
      ],
      "metadata": {
        "id": "YaoUvr6QUjI2"
      },
      "execution_count": 28,
      "outputs": []
    },
    {
      "cell_type": "code",
      "source": [
        "print(cents)"
      ],
      "metadata": {
        "colab": {
          "base_uri": "https://localhost:8080/"
        },
        "id": "a8rD1VPGUtkV",
        "outputId": "cd1c9892-06ef-4d71-971b-9ceda81a9bf9"
      },
      "execution_count": 29,
      "outputs": [
        {
          "output_type": "stream",
          "name": "stdout",
          "text": [
            "2786.313713864835\n"
          ]
        }
      ]
    },
    {
      "cell_type": "code",
      "source": [
        "cents=math.log(330/55)*1200/math.log(2)"
      ],
      "metadata": {
        "id": "xdauFFXGUvdd"
      },
      "execution_count": 30,
      "outputs": []
    },
    {
      "cell_type": "code",
      "source": [
        "print(cents)"
      ],
      "metadata": {
        "colab": {
          "base_uri": "https://localhost:8080/"
        },
        "id": "ivuGLA6QVAPS",
        "outputId": "b830c0b2-cf90-4ad1-b5ac-39fd32210a71"
      },
      "execution_count": 31,
      "outputs": [
        {
          "output_type": "stream",
          "name": "stdout",
          "text": [
            "3101.9550008653873\n"
          ]
        }
      ]
    },
    {
      "cell_type": "code",
      "source": [
        "cents=math.log(385/55)*1200/math.log(2)"
      ],
      "metadata": {
        "id": "NSkeX4b4VCkk"
      },
      "execution_count": 32,
      "outputs": []
    },
    {
      "cell_type": "code",
      "source": [
        "print(cents)"
      ],
      "metadata": {
        "colab": {
          "base_uri": "https://localhost:8080/"
        },
        "id": "gh5j-B5gVMZm",
        "outputId": "d826564b-ea04-460e-ae88-e962cfbd908e"
      },
      "execution_count": 33,
      "outputs": [
        {
          "output_type": "stream",
          "name": "stdout",
          "text": [
            "3368.825906469125\n"
          ]
        }
      ]
    },
    {
      "cell_type": "code",
      "source": [],
      "metadata": {
        "id": "UsZlBc-TVOxz"
      },
      "execution_count": null,
      "outputs": []
    }
  ]
}